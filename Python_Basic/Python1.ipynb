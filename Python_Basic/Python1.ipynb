{
 "cells": [
  {
   "cell_type": "markdown",
   "id": "efea5230",
   "metadata": {},
   "source": [
    "# Python for Big Data\n",
    "\n",
    "Variables\n",
    "String\n",
    "Function print\n",
    "Booleano y Condicionales\n",
    "Loops\n",
    "Funciones\n",
    "Manejo de Excepcion"
   ]
  },
  {
   "cell_type": "markdown",
   "id": "8dbe1281",
   "metadata": {},
   "source": [
    "# 1. Variables"
   ]
  },
  {
   "cell_type": "code",
   "execution_count": 2,
   "id": "aa53bc0b",
   "metadata": {},
   "outputs": [],
   "source": [
    "# Variables\n",
    "resultado = \"\""
   ]
  },
  {
   "cell_type": "code",
   "execution_count": 3,
   "id": "8da43592",
   "metadata": {},
   "outputs": [],
   "source": [
    "# Mostrar variables\n",
    "monto_deuda = 1000\n",
    "moneda = \"Soles\""
   ]
  },
  {
   "cell_type": "code",
   "execution_count": 4,
   "id": "f79791a5",
   "metadata": {},
   "outputs": [],
   "source": [
    "#Interacción con el usuario\n",
    "monto_interes = int(input(\"Ingrese el interes\"))"
   ]
  },
  {
   "cell_type": "code",
   "execution_count": 10,
   "id": "1bfe1b43",
   "metadata": {},
   "outputs": [
    {
     "data": {
      "text/plain": [
       "1000"
      ]
     },
     "execution_count": 10,
     "metadata": {},
     "output_type": "execute_result"
    }
   ],
   "source": [
    "#Operando con variables\n",
    "resultado = monto_deuda\n",
    "resultado"
   ]
  },
  {
   "cell_type": "code",
   "execution_count": 11,
   "id": "d7818883",
   "metadata": {},
   "outputs": [
    {
     "data": {
      "text/plain": [
       "int"
      ]
     },
     "execution_count": 11,
     "metadata": {},
     "output_type": "execute_result"
    }
   ],
   "source": [
    "#Tipo de variables\n",
    "type(monto_deuda)"
   ]
  },
  {
   "cell_type": "code",
   "execution_count": 12,
   "id": "9013af38",
   "metadata": {},
   "outputs": [
    {
     "data": {
      "text/plain": [
       "str"
      ]
     },
     "execution_count": 12,
     "metadata": {},
     "output_type": "execute_result"
    }
   ],
   "source": [
    "type(moneda)"
   ]
  },
  {
   "cell_type": "code",
   "execution_count": 13,
   "id": "72042692",
   "metadata": {},
   "outputs": [
    {
     "data": {
      "text/plain": [
       "4000"
      ]
     },
     "execution_count": 13,
     "metadata": {},
     "output_type": "execute_result"
    }
   ],
   "source": [
    "#Operacion con variables\n",
    "4*resultado"
   ]
  },
  {
   "cell_type": "code",
   "execution_count": 14,
   "id": "f84a296c",
   "metadata": {},
   "outputs": [
    {
     "data": {
      "text/plain": [
       "'1000'"
      ]
     },
     "execution_count": 14,
     "metadata": {},
     "output_type": "execute_result"
    }
   ],
   "source": [
    "#Cambiando tipo de variables\n",
    "str_monto_deuda = str(monto_deuda)\n",
    "str_monto_deuda"
   ]
  },
  {
   "cell_type": "code",
   "execution_count": 15,
   "id": "c88273c2",
   "metadata": {},
   "outputs": [
    {
     "data": {
      "text/plain": [
       "1000"
      ]
     },
     "execution_count": 15,
     "metadata": {},
     "output_type": "execute_result"
    }
   ],
   "source": [
    "int_monto_deuda = int(str_monto_deuda)\n",
    "int_monto_deuda"
   ]
  },
  {
   "cell_type": "markdown",
   "id": "cc6d36d9",
   "metadata": {},
   "source": [
    "# 2. String"
   ]
  },
  {
   "cell_type": "code",
   "execution_count": 17,
   "id": "36b9a1d0",
   "metadata": {},
   "outputs": [
    {
     "data": {
      "text/plain": [
       "'Hola.'"
      ]
     },
     "execution_count": 17,
     "metadata": {},
     "output_type": "execute_result"
    }
   ],
   "source": [
    "#Concatenar\n",
    "'Ho' + 'la.'"
   ]
  },
  {
   "cell_type": "code",
   "execution_count": null,
   "id": "18877caf",
   "metadata": {},
   "outputs": [],
   "source": [
    "# Creando variables string e inicializando\n",
    "text_1 = \"Mi primer mensaje\"\n",
    "text_2 = \"Mi segundo mensaje\""
   ]
  },
  {
   "cell_type": "code",
   "execution_count": 21,
   "id": "b46dcfa2",
   "metadata": {},
   "outputs": [
    {
     "data": {
      "text/plain": [
       "'Mi primer mensaje'"
      ]
     },
     "execution_count": 21,
     "metadata": {},
     "output_type": "execute_result"
    }
   ],
   "source": [
    "text_1"
   ]
  },
  {
   "cell_type": "code",
   "execution_count": 23,
   "id": "2363f045",
   "metadata": {},
   "outputs": [
    {
     "data": {
      "text/plain": [
       "'Mi segundo mensaje'"
      ]
     },
     "execution_count": 23,
     "metadata": {},
     "output_type": "execute_result"
    }
   ],
   "source": [
    "text_2"
   ]
  },
  {
   "cell_type": "code",
   "execution_count": 25,
   "id": "ffd4d8f5",
   "metadata": {},
   "outputs": [],
   "source": [
    "#Comillas triples\n",
    "consulta = \"\"\"\n",
    "    SELECT *\n",
    "    FROM Users\n",
    "    WHERE ID = 8\n",
    "    GROUP BY ADMIN\n",
    "\"\"\""
   ]
  },
  {
   "cell_type": "code",
   "execution_count": 27,
   "id": "48d309f9",
   "metadata": {},
   "outputs": [
    {
     "data": {
      "text/plain": [
       "'\\n    SELECT *\\n    FROM Users\\n    WHERE ID = 8\\n    GROUP BY ADMIN\\n'"
      ]
     },
     "execution_count": 27,
     "metadata": {},
     "output_type": "execute_result"
    }
   ],
   "source": [
    "consulta"
   ]
  },
  {
   "cell_type": "code",
   "execution_count": 32,
   "id": "2e674027",
   "metadata": {},
   "outputs": [],
   "source": [
    "#Operaciones con string\n",
    "cadena_1 = \"hola mundo\"\n",
    "cadena_2 = \"5\"\n",
    "cadena_3 = \"cinco\""
   ]
  },
  {
   "cell_type": "code",
   "execution_count": 34,
   "id": "567c9509",
   "metadata": {},
   "outputs": [
    {
     "data": {
      "text/plain": [
       "'Hola mundo'"
      ]
     },
     "execution_count": 34,
     "metadata": {},
     "output_type": "execute_result"
    }
   ],
   "source": [
    "cadena_1.capitalize()"
   ]
  },
  {
   "cell_type": "code",
   "execution_count": 36,
   "id": "d1ba1b9e",
   "metadata": {},
   "outputs": [
    {
     "data": {
      "text/plain": [
       "'CINCO'"
      ]
     },
     "execution_count": 36,
     "metadata": {},
     "output_type": "execute_result"
    }
   ],
   "source": [
    "cadena_3.upper()"
   ]
  },
  {
   "cell_type": "code",
   "execution_count": 38,
   "id": "bab9174d",
   "metadata": {},
   "outputs": [
    {
     "data": {
      "text/plain": [
       "'cinco'"
      ]
     },
     "execution_count": 38,
     "metadata": {},
     "output_type": "execute_result"
    }
   ],
   "source": [
    "cadena_3.lower()"
   ]
  },
  {
   "cell_type": "code",
   "execution_count": 40,
   "id": "df2fec87",
   "metadata": {},
   "outputs": [
    {
     "data": {
      "text/plain": [
       "'Hola Mundo'"
      ]
     },
     "execution_count": 40,
     "metadata": {},
     "output_type": "execute_result"
    }
   ],
   "source": [
    "cadena_1.title()"
   ]
  },
  {
   "cell_type": "code",
   "execution_count": 42,
   "id": "7decfe02",
   "metadata": {},
   "outputs": [
    {
     "data": {
      "text/plain": [
       "['hola', 'mundo']"
      ]
     },
     "execution_count": 42,
     "metadata": {},
     "output_type": "execute_result"
    }
   ],
   "source": [
    "cadena_1.split()"
   ]
  },
  {
   "cell_type": "code",
   "execution_count": 44,
   "id": "585f2ba8",
   "metadata": {},
   "outputs": [
    {
     "data": {
      "text/plain": [
       "2"
      ]
     },
     "execution_count": 44,
     "metadata": {},
     "output_type": "execute_result"
    }
   ],
   "source": [
    "cadena_1.count('o')"
   ]
  },
  {
   "cell_type": "code",
   "execution_count": 46,
   "id": "8f965695",
   "metadata": {},
   "outputs": [
    {
     "data": {
      "text/plain": [
       "10"
      ]
     },
     "execution_count": 46,
     "metadata": {},
     "output_type": "execute_result"
    }
   ],
   "source": [
    "#Longitud de una cadena\n",
    "len(cadena_1)"
   ]
  },
  {
   "cell_type": "code",
   "execution_count": 50,
   "id": "ca7d22a7",
   "metadata": {},
   "outputs": [
    {
     "data": {
      "text/plain": [
       "['hola ', 'undo']"
      ]
     },
     "execution_count": 50,
     "metadata": {},
     "output_type": "execute_result"
    }
   ],
   "source": [
    "#Quitar letra string\n",
    "cadena_1.split('m')"
   ]
  },
  {
   "cell_type": "code",
   "execution_count": 52,
   "id": "f1986501",
   "metadata": {},
   "outputs": [
    {
     "data": {
      "text/plain": [
       "'(Hola mundo),'"
      ]
     },
     "execution_count": 52,
     "metadata": {},
     "output_type": "execute_result"
    }
   ],
   "source": [
    "#Limpiando extremos de un string\n",
    "cadena_4 = '(Hola mundo), '\n",
    "cadena_4.strip()"
   ]
  },
  {
   "cell_type": "code",
   "execution_count": 54,
   "id": "993986fb",
   "metadata": {},
   "outputs": [
    {
     "data": {
      "text/plain": [
       "'Hola mundo'"
      ]
     },
     "execution_count": 54,
     "metadata": {},
     "output_type": "execute_result"
    }
   ],
   "source": [
    "cadena_4.strip('(), ')"
   ]
  },
  {
   "cell_type": "code",
   "execution_count": null,
   "id": "ddf3a4b9",
   "metadata": {},
   "outputs": [
    {
     "data": {
      "text/plain": [
       "'Hola amigos'"
      ]
     },
     "execution_count": 56,
     "metadata": {},
     "output_type": "execute_result"
    }
   ],
   "source": [
    "# Reemplazar string\n",
    "cadena_5 = 'Hola mundo'\n",
    "cadena_5. replace('mundo', 'amigos')"
   ]
  },
  {
   "cell_type": "code",
   "execution_count": null,
   "id": "e0b656e7",
   "metadata": {},
   "outputs": [],
   "source": [
    "cadena_5.index('o', 6)"
   ]
  },
  {
   "cell_type": "code",
   "execution_count": null,
   "id": "8369bdca",
   "metadata": {},
   "outputs": [],
   "source": [
    "cadena_5[4]"
   ]
  },
  {
   "cell_type": "code",
   "execution_count": null,
   "id": "99763d88",
   "metadata": {},
   "outputs": [],
   "source": [
    "cadena_5[-2]"
   ]
  },
  {
   "cell_type": "code",
   "execution_count": null,
   "id": "83dfd78d",
   "metadata": {},
   "outputs": [],
   "source": [
    "cadena_5[2:-2]"
   ]
  },
  {
   "cell_type": "code",
   "execution_count": null,
   "id": "175719fe",
   "metadata": {},
   "outputs": [],
   "source": [
    "cadena_5[::-1]"
   ]
  },
  {
   "cell_type": "code",
   "execution_count": 5,
   "id": "f3f4ac6b",
   "metadata": {},
   "outputs": [
    {
     "ename": "NameError",
     "evalue": "name 'cadena_4' is not defined",
     "output_type": "error",
     "traceback": [
      "\u001b[31m---------------------------------------------------------------------------\u001b[39m",
      "\u001b[31mNameError\u001b[39m                                 Traceback (most recent call last)",
      "\u001b[36mCell\u001b[39m\u001b[36m \u001b[39m\u001b[32mIn[5]\u001b[39m\u001b[32m, line 2\u001b[39m\n\u001b[32m      1\u001b[39m \u001b[38;5;66;03m#Llamar a una cadena\u001b[39;00m\n\u001b[32m----> \u001b[39m\u001b[32m2\u001b[39m \u001b[43mcadena_4\u001b[49m.strip(\u001b[33m'\u001b[39m\u001b[33m(), \u001b[39m\u001b[33m'\u001b[39m).upper().split()\n",
      "\u001b[31mNameError\u001b[39m: name 'cadena_4' is not defined"
     ]
    }
   ],
   "source": [
    "#Llamar a una cadena\n",
    "cadena_4.strip('(), ').upper().split()"
   ]
  },
  {
   "cell_type": "code",
   "execution_count": null,
   "id": "919a5261",
   "metadata": {},
   "outputs": [],
   "source": []
  },
  {
   "cell_type": "code",
   "execution_count": 6,
   "id": "116bc8ea",
   "metadata": {},
   "outputs": [
    {
     "data": {
      "text/plain": [
       "'Hola Jaime este es el curso de Topicos especiales en inteligencia de negocios'"
      ]
     },
     "execution_count": 6,
     "metadata": {},
     "output_type": "execute_result"
    }
   ],
   "source": [
    "#Python f-string\n",
    "nombre = 'Jaime'\n",
    "curso = 'Topicos especiales en inteligencia de negocios'\n",
    "f'Hola {nombre} este es el curso de {curso}'"
   ]
  },
  {
   "cell_type": "code",
   "execution_count": 7,
   "id": "0ceff492",
   "metadata": {},
   "outputs": [
    {
     "data": {
      "text/plain": [
       "'abcdefghijklmnopqrstuvwxyzABCDEFGHIJKLMNOPQRSTUVWXYZ'"
      ]
     },
     "execution_count": 7,
     "metadata": {},
     "output_type": "execute_result"
    }
   ],
   "source": [
    "import string\n",
    "string.ascii_letters"
   ]
  },
  {
   "cell_type": "code",
   "execution_count": 8,
   "id": "8821b2a8",
   "metadata": {},
   "outputs": [
    {
     "data": {
      "text/plain": [
       "'abcdefghijklmnopqrstuvwxyz'"
      ]
     },
     "execution_count": 8,
     "metadata": {},
     "output_type": "execute_result"
    }
   ],
   "source": [
    "string.ascii_lowercase"
   ]
  },
  {
   "cell_type": "code",
   "execution_count": 9,
   "id": "3d727f60",
   "metadata": {},
   "outputs": [
    {
     "data": {
      "text/plain": [
       "'ABCDEFGHIJKLMNOPQRSTUVWXYZ'"
      ]
     },
     "execution_count": 9,
     "metadata": {},
     "output_type": "execute_result"
    }
   ],
   "source": [
    "string.ascii_uppercase"
   ]
  }
 ],
 "metadata": {
  "kernelspec": {
   "display_name": "myenv (3.13.7)",
   "language": "python",
   "name": "python3"
  },
  "language_info": {
   "codemirror_mode": {
    "name": "ipython",
    "version": 3
   },
   "file_extension": ".py",
   "mimetype": "text/x-python",
   "name": "python",
   "nbconvert_exporter": "python",
   "pygments_lexer": "ipython3",
   "version": "3.13.7"
  }
 },
 "nbformat": 4,
 "nbformat_minor": 5
}
