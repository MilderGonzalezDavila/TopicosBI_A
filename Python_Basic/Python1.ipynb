{
 "cells": [
  {
   "cell_type": "markdown",
   "id": "efea5230",
   "metadata": {},
   "source": [
    "# Python for Big Data\n",
    "\n",
    "Variables\n",
    "String\n",
    "Function print\n",
    "Booleano y Condicionales\n",
    "Loops\n",
    "Funciones\n",
    "Manejo de Excepcion"
   ]
  },
  {
   "cell_type": "markdown",
   "id": "8dbe1281",
   "metadata": {},
   "source": [
    "# 1. Variables"
   ]
  },
  {
   "cell_type": "code",
   "execution_count": 2,
   "id": "aa53bc0b",
   "metadata": {},
   "outputs": [],
   "source": [
    "# Variables\n",
    "resultado = \"\""
   ]
  },
  {
   "cell_type": "code",
   "execution_count": 3,
   "id": "8da43592",
   "metadata": {},
   "outputs": [],
   "source": [
    "# Mostrar variables\n",
    "monto_deuda = 1000\n",
    "moneda = \"Soles\""
   ]
  },
  {
   "cell_type": "code",
   "execution_count": null,
   "id": "f79791a5",
   "metadata": {},
   "outputs": [],
   "source": [
    "#Interacción con el usuario\n",
    "monto_interes = int(input(\"Ingrese el interes\"))"
   ]
  },
  {
   "cell_type": "code",
   "execution_count": null,
   "id": "1bfe1b43",
   "metadata": {},
   "outputs": [],
   "source": [
    "#Operando con variables\n",
    "resultado = monto_deuda\n",
    "resultado"
   ]
  },
  {
   "cell_type": "code",
   "execution_count": null,
   "id": "d7818883",
   "metadata": {},
   "outputs": [],
   "source": [
    "#Tipo de variables\n",
    "type(monto_deuda)"
   ]
  },
  {
   "cell_type": "code",
   "execution_count": null,
   "id": "9013af38",
   "metadata": {},
   "outputs": [],
   "source": [
    "type(moneda)"
   ]
  },
  {
   "cell_type": "code",
   "execution_count": null,
   "id": "72042692",
   "metadata": {},
   "outputs": [],
   "source": [
    "#Operacion con variables\n",
    "4*resultado"
   ]
  },
  {
   "cell_type": "code",
   "execution_count": null,
   "id": "f84a296c",
   "metadata": {},
   "outputs": [],
   "source": [
    "#Cambiando tipo de variables\n",
    "str_monto_deuda = str(monto_deuda)\n",
    "str_monto_deuda"
   ]
  },
  {
   "cell_type": "code",
   "execution_count": 1,
   "id": "c88273c2",
   "metadata": {},
   "outputs": [
    {
     "ename": "NameError",
     "evalue": "name 'str_monto_deuda' is not defined",
     "output_type": "error",
     "traceback": [
      "\u001b[31m---------------------------------------------------------------------------\u001b[39m",
      "\u001b[31mNameError\u001b[39m                                 Traceback (most recent call last)",
      "\u001b[36mCell\u001b[39m\u001b[36m \u001b[39m\u001b[32mIn[1]\u001b[39m\u001b[32m, line 1\u001b[39m\n\u001b[32m----> \u001b[39m\u001b[32m1\u001b[39m int_monto_deuda = \u001b[38;5;28mint\u001b[39m(\u001b[43mstr_monto_deuda\u001b[49m)\n\u001b[32m      2\u001b[39m int_monto_deuda\n",
      "\u001b[31mNameError\u001b[39m: name 'str_monto_deuda' is not defined"
     ]
    }
   ],
   "source": [
    "int_monto_deuda = int(str_monto_deuda)\n",
    "int_monto_deuda"
   ]
  },
  {
   "cell_type": "markdown",
   "id": "cc6d36d9",
   "metadata": {},
   "source": [
    "2. String"
   ]
  }
 ],
 "metadata": {
  "kernelspec": {
   "display_name": "myenv (3.13.7)",
   "language": "python",
   "name": "python3"
  },
  "language_info": {
   "codemirror_mode": {
    "name": "ipython",
    "version": 3
   },
   "file_extension": ".py",
   "mimetype": "text/x-python",
   "name": "python",
   "nbconvert_exporter": "python",
   "pygments_lexer": "ipython3",
   "version": "3.13.7"
  }
 },
 "nbformat": 4,
 "nbformat_minor": 5
}
